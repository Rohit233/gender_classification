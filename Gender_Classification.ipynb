{
  "nbformat": 4,
  "nbformat_minor": 0,
  "metadata": {
    "colab": {
      "name": "Gender Classification.ipynb",
      "provenance": [],
      "authorship_tag": "ABX9TyNojkDBicoueIFxBkIdzx42",
      "include_colab_link": true
    },
    "kernelspec": {
      "name": "python3",
      "display_name": "Python 3"
    },
    "language_info": {
      "name": "python"
    }
  },
  "cells": [
    {
      "cell_type": "markdown",
      "metadata": {
        "id": "view-in-github",
        "colab_type": "text"
      },
      "source": [
        "<a href=\"https://colab.research.google.com/github/Rohit233/gender_classification/blob/main/Gender_Classification.ipynb\" target=\"_parent\"><img src=\"https://colab.research.google.com/assets/colab-badge.svg\" alt=\"Open In Colab\"/></a>"
      ]
    },
    {
      "cell_type": "code",
      "execution_count": 17,
      "metadata": {
        "id": "rHcrc4aCrF8c"
      },
      "outputs": [],
      "source": [
        "import numpy as np\n",
        "import seaborn as sns\n",
        "from sklearn.model_selection import train_test_split\n",
        "import os\n",
        "from PIL import Image\n",
        "\n",
        "from sklearn.linear_model import LogisticRegression\n",
        "from sklearn.metrics import accuracy_score\n",
        "from sklearn.svm import SVC"
      ]
    },
    {
      "cell_type": "code",
      "source": [
        "px =50\n",
        "from zipfile import ZipFile\n",
        "\n",
        "with ZipFile('dataset.zip', 'r') as zipObj:\n",
        "   zipObj.extractall()\n",
        "train_path =\"Training\"\n",
        "test_path =\"Validation\"\n",
        "\n",
        "train_male = \"Training/male\"\n",
        "train_female = \"Training/female\"\n",
        "\n",
        "test_male = \"Validation/male\"\n",
        "test_female = \"Validation/female\"\n"
      ],
      "metadata": {
        "id": "HeIF2Uc4-Imk"
      },
      "execution_count": 12,
      "outputs": []
    },
    {
      "cell_type": "code",
      "source": [
        "category_names = os.listdir(train_path)\n",
        "num_category_names =len(category_names)\n",
        "train_images = []\n",
        "for category in category_names:\n",
        "    folder = train_path +\"/\"+ category\n",
        "    train_images.append(len(os.listdir(folder)))\n",
        "\n",
        "g = sns.barplot(x=category_names,y=train_images)\n",
        "g.set_title(\"Gender Category of Train Set\")\n",
        "\n"
      ],
      "metadata": {
        "colab": {
          "base_uri": "https://localhost:8080/",
          "height": 298
        },
        "id": "8dW-zHLB-L3o",
        "outputId": "0b7eb53f-6ce9-4f84-c796-28d0526aea3e"
      },
      "execution_count": 18,
      "outputs": [
        {
          "output_type": "execute_result",
          "data": {
            "text/plain": [
              "Text(0.5, 1.0, 'Gender Category of Train Set')"
            ]
          },
          "metadata": {},
          "execution_count": 18
        },
        {
          "output_type": "display_data",
          "data": {
            "text/plain": [
              "<Figure size 432x288 with 1 Axes>"
            ],
            "image/png": "[encoded data removed]"
          },
          "metadata": {
            "needs_background": "light"
          }
        }
      ]
    },
    {
      "cell_type": "code",
      "source": [
        "test_images = []\n",
        "for category in category_names:\n",
        "    folder = test_path +\"/\"+ category\n",
        "    test_images.append(len(os.listdir(folder)))\n",
        "\n",
        "g = sns.barplot(x=category_names,y=test_images)\n",
        "g.set_title(\"Gender Category of test Set\")"
      ],
      "metadata": {
        "id": "aihoBn8oyx9R",
        "colab": {
          "base_uri": "https://localhost:8080/",
          "height": 298
        },
        "outputId": "2b37272b-05ab-40cb-a574-243d3d20faa5"
      },
      "execution_count": 19,
      "outputs": [
        {
          "output_type": "execute_result",
          "data": {
            "text/plain": [
              "Text(0.5, 1.0, 'Gender Category of test Set')"
            ]
          },
          "metadata": {},
          "execution_count": 19
        },
        {
          "output_type": "display_data",
          "data": {
            "text/plain": [
              "<Figure size 432x288 with 1 Axes>"
            ],
            "image/png": "[encoded data removed]"
          },
          "metadata": {
            "needs_background": "light"
          }
        }
      ]
    },
    {
      "cell_type": "code",
      "source": [
        "#TrainDataset\n",
        "\n",
        "male_train = []\n",
        "label = []\n",
        "for i in os.listdir(train_male):\n",
        "    if os.path.isfile(train_male + \"/\" + i):\n",
        "        males = Image.open(train_male + \"/\" + i).convert(\"L\")  # Converting grey scale\n",
        "        males = males.resize((px, px), Image.ANTIALIAS)\n",
        "\n",
        "        males = np.asarray(males) / 255.0  # Normalizing Images\n",
        "        male_train.append(males)\n",
        "        label.append(False)\n",
        "female_train = []\n",
        "for i in os.listdir(train_female):\n",
        "    if os.path.isfile(train_female + \"/\" + i):\n",
        "        females = Image.open(train_female + \"/\" + i)\n",
        "        females = females.resize((px, px), Image.ANTIALIAS).convert(\"L\")  # Converting grey scale\n",
        "\n",
        "        females = np.asarray(females) / 255.0  # Normalizing Images\n",
        "\n",
        "        female_train.append(females)\n",
        "        label.append(True)\n",
        "\n",
        "x_train = np.concatenate((male_train,female_train),axis=0) # Training Dataset\n",
        "y_train = np.asarray(label)# Label array\n",
        "y_train = y_train.reshape(x_train.shape[0],1)\n",
        "\n",
        "print(\"Woman Faces\",np.shape(female_train),\"Man Faces\",np.shape(male_train))\n",
        "print(\"Train Dataset\",x_train.shape,\"Train Values\",y_train.shape)\n"
      ],
      "metadata": {
        "colab": {
          "base_uri": "https://localhost:8080/"
        },
        "id": "tSeE6e6m-SHH",
        "outputId": "25899f2a-36cb-4d98-c23d-b3b7e120ff77"
      },
      "execution_count": 20,
      "outputs": [
        {
          "output_type": "stream",
          "name": "stdout",
          "text": [
            "Woman Faces (23243, 50, 50) Man Faces (23766, 50, 50)\n",
            "Train Dataset (47009, 50, 50) Train Values (47009, 1)\n"
          ]
        }
      ]
    },
    {
      "cell_type": "code",
      "source": [
        "#Test Dataset\n",
        "\n",
        "male_test = []\n",
        "label2 = []\n",
        "for i in os.listdir(test_male):\n",
        "    if os.path.isfile(test_male + \"/\" + i):\n",
        "        male_face = Image.open(test_male + \"/\" + i).convert(\"L\")  # Convert grey scale\n",
        "        male_face = male_face.resize((px, px), Image.ANTIALIAS)\n",
        "\n",
        "        male_face = np.asarray(male_face) / 255.0  # Normalizing Images\n",
        "        male_test.append(male_face)\n",
        "        label2.append(False) \n",
        "\n",
        "female_test = []\n",
        "for i in os.listdir(test_female):\n",
        "    if os.path.isfile(test_female + \"/\" + i):\n",
        "        female_face = Image.open(test_female + \"/\" + i).convert(\"L\")  # Convert grey scale\n",
        "        female_face = female_face.resize((px, px), Image.ANTIALIAS)\n",
        "\n",
        "        female_face = np.asarray(female_face) / 255.0  # Normalizing Image\n",
        "        female_test.append(female_face)\n",
        "        label2.append(True)\n",
        "\n",
        "x_test = np.concatenate((male_test,female_test),axis=0)#test dataset\n",
        "y_test = np.asarray(label2)\n",
        "y_test = y_test.reshape(x_test.shape[0],1)\n",
        "\n",
        "print(\"Man Faces\",np.shape(male_test),\"Female Faces\",np.shape(female_test))\n",
        "print(\"Test Dataset\",x_test.shape,\"Test Dataset Values\",y_test.shape)"
      ],
      "metadata": {
        "id": "hYEHrii6-V-z",
        "colab": {
          "base_uri": "https://localhost:8080/"
        },
        "outputId": "03db1201-6f0d-41d7-abf4-35a71a6c493e"
      },
      "execution_count": 21,
      "outputs": [
        {
          "output_type": "stream",
          "name": "stdout",
          "text": [
            "Man Faces (5808, 50, 50) Female Faces (5841, 50, 50)\n",
            "Test Dataset (11649, 50, 50) Test Dataset Values (11649, 1)\n"
          ]
        }
      ]
    },
    {
      "cell_type": "code",
      "source": [
        "x = np.concatenate((x_train,x_test),axis=0)\n",
        "y = np.concatenate((y_train,y_test),axis=0)\n",
        "\n",
        "x = x.reshape(x.shape[0],x.shape[1]*x.shape[2])# Convert 3D to 2D\n",
        "print(\"x shape:{}\\ny shape{}\".format(x.shape,y.shape))\n",
        "\n",
        "\n",
        "X_train,X_test,Y_train,Y_test = train_test_split(x,y,\n",
        "                                                 test_size=0.2,\n",
        "                                                 random_state=1)\n",
        "\n",
        "x_train = X_train.T\n",
        "x_test = X_test.T\n",
        "y_train = Y_train.T\n",
        "y_test = Y_test.T\n",
        "print(\"x_train:{}\\nx_test:{}\\ny_train:{}\\ny_test:{}\".format(x_train.shape,x_test.shape,y_train.shape,y_test.shape))\n",
        "\n",
        "log_reg = LogisticRegression()\n",
        "log_reg.fit(X_train,Y_train)\n",
        "\n",
        "print(\"Accuracy Score Train: %{:.2f} \".format(accuracy_score(log_reg.predict(X_train),Y_train)*100))\n",
        "print(\"Accuracy Score Test: %{:.2f} \".format(accuracy_score(log_reg.predict(X_test),Y_test)*100))"
      ],
      "metadata": {
        "id": "UXFZRmDV-cL2",
        "colab": {
          "base_uri": "https://localhost:8080/"
        },
        "outputId": "b12614e6-e9eb-4cdd-c073-760083a588cb"
      },
      "execution_count": 22,
      "outputs": [
        {
          "output_type": "stream",
          "name": "stdout",
          "text": [
            "x shape:(58658, 2500)\n",
            "y shape(58658, 1)\n",
            "x_train:(2500, 46926)\n",
            "x_test:(2500, 11732)\n",
            "y_train:(1, 46926)\n",
            "y_test:(1, 11732)\n",
            "Accuracy Score Train: %86.58 \n",
            "Accuracy Score Test: %85.40 \n"
          ]
        }
      ]
    }
  ]
}